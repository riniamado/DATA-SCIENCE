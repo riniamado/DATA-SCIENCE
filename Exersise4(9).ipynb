{
 "cells": [
  {
   "cell_type": "code",
   "execution_count": 1,
   "id": "abcdffdb",
   "metadata": {},
   "outputs": [
    {
     "name": "stdout",
     "output_type": "stream",
     "text": [
      "     Name Occupation  Salary\n",
      "0  Vishal    Teacher   12000\n",
      "1    Diya      Clerk    5000\n",
      "2     Anu      Clerk    6000\n",
      "3   Minnu    Teacher   14000\n",
      "4    Sina    Teacher   19000\n",
      "\n",
      "\n",
      "\n",
      "Occupation\n",
      "Clerk       5500.0\n",
      "Teacher    15000.0\n",
      "Name: Salary, dtype: float64\n"
     ]
    }
   ],
   "source": [
    "#Program 4.9\n",
    "\n",
    "import pandas as  pd\n",
    "df1 =  pd.read_csv(\"Program_4.9.csv\")\n",
    "print(df1)\n",
    "print(\"\\n\\n\")\n",
    "avg =  df1.groupby('Occupation')['Salary'].mean()\n",
    "print(avg)\n"
   ]
  },
  {
   "cell_type": "code",
   "execution_count": null,
   "id": "d49bfa6d",
   "metadata": {},
   "outputs": [],
   "source": []
  }
 ],
 "metadata": {
  "kernelspec": {
   "display_name": "Python 3 (ipykernel)",
   "language": "python",
   "name": "python3"
  },
  "language_info": {
   "codemirror_mode": {
    "name": "ipython",
    "version": 3
   },
   "file_extension": ".py",
   "mimetype": "text/x-python",
   "name": "python",
   "nbconvert_exporter": "python",
   "pygments_lexer": "ipython3",
   "version": "3.9.7"
  }
 },
 "nbformat": 4,
 "nbformat_minor": 5
}
