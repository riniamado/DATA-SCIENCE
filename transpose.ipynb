{
 "cells": [
  {
   "cell_type": "code",
   "execution_count": 2,
   "id": "59bb0f6b",
   "metadata": {},
   "outputs": [
    {
     "name": "stdout",
     "output_type": "stream",
     "text": [
      "Enter row size :2\n",
      "Enter column size :2\n",
      "element:4\n",
      "element:12\n",
      "element:1\n",
      "element:3\n",
      "[[ 4 12]\n",
      " [ 1  3]]\n",
      "[[ 4  1]\n",
      " [12  3]]\n"
     ]
    }
   ],
   "source": [
    "import numpy as nup\n",
    "array1=[]\n",
    "r=int(input(\"Enter row size :\"))\n",
    "c=int(input(\"Enter column size :\"))\n",
    "for i in range(r):\n",
    "    for j in range(c):\n",
    "        array1.append(int(input(\"element:\")))\n",
    "array1=nup.array(array1).reshape(c,r)\n",
    "print(array1)\n",
    "trans = array1.transpose()\n",
    "    \n",
    "print(trans)"
   ]
  },
  {
   "cell_type": "code",
   "execution_count": null,
   "id": "faea42a5",
   "metadata": {},
   "outputs": [],
   "source": []
  }
 ],
 "metadata": {
  "kernelspec": {
   "display_name": "Python 3 (ipykernel)",
   "language": "python",
   "name": "python3"
  },
  "language_info": {
   "codemirror_mode": {
    "name": "ipython",
    "version": 3
   },
   "file_extension": ".py",
   "mimetype": "text/x-python",
   "name": "python",
   "nbconvert_exporter": "python",
   "pygments_lexer": "ipython3",
   "version": "3.9.7"
  }
 },
 "nbformat": 4,
 "nbformat_minor": 5
}
