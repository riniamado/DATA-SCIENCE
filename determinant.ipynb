{
 "cells": [
  {
   "cell_type": "code",
   "execution_count": 4,
   "id": "0463a0a3",
   "metadata": {},
   "outputs": [
    {
     "name": "stdout",
     "output_type": "stream",
     "text": [
      "Enter row size :2\n",
      "Enter column size :2\n",
      "element:2\n",
      "element:3\n",
      "element:4\n",
      "element:5\n",
      "[[2 3]\n",
      " [4 5]]\n",
      "Enter row size :2\n",
      "Enter column size :2\n",
      "element:3\n",
      "element:4\n",
      "element:5\n",
      "element:3\n",
      "[[3 4]\n",
      " [5 3]]\n",
      "Determinant of the first array:\n",
      "-2.0\n",
      "Determinant of the second array:\n",
      "-10.999999999999996\n"
     ]
    }
   ],
   "source": [
    "import numpy as np\n",
    "array1=[]\n",
    "r=int(input(\"Enter row size :\"))\n",
    "c=int(input(\"Enter column size :\"))\n",
    "for i in range(r):\n",
    "    for j in range(c):\n",
    "        array1.append(int(input(\"element:\")))\n",
    "array1=np.array(array1).reshape(c,r)\n",
    "print(array1)\n",
    "\n",
    "\n",
    "array2=[]\n",
    "r=int(input(\"Enter row size :\"))\n",
    "c=int(input(\"Enter column size :\"))\n",
    "for i in range(r):\n",
    "    for j in range(c):\n",
    "        array2.append(int(input(\"element:\")))\n",
    "array2=np.array(array2).reshape(c,r)\n",
    "print(array2)\n",
    "\n",
    "result1 =  np.linalg.det(array1)\n",
    "print(\"Determinant of the first array:\")\n",
    "print(result1)\n",
    "\n",
    "result2 =  np.linalg.det(array2)\n",
    "print(\"Determinant of the second array:\")\n",
    "print(result2)\n",
    "\n",
    "\n",
    "\n"
   ]
  },
  {
   "cell_type": "code",
   "execution_count": null,
   "id": "fbe1ca33",
   "metadata": {},
   "outputs": [],
   "source": []
  }
 ],
 "metadata": {
  "kernelspec": {
   "display_name": "Python 3 (ipykernel)",
   "language": "python",
   "name": "python3"
  },
  "language_info": {
   "codemirror_mode": {
    "name": "ipython",
    "version": 3
   },
   "file_extension": ".py",
   "mimetype": "text/x-python",
   "name": "python",
   "nbconvert_exporter": "python",
   "pygments_lexer": "ipython3",
   "version": "3.9.7"
  }
 },
 "nbformat": 4,
 "nbformat_minor": 5
}
