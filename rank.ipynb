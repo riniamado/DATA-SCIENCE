{
 "cells": [
  {
   "cell_type": "code",
   "execution_count": 2,
   "id": "e0c50d74",
   "metadata": {},
   "outputs": [
    {
     "name": "stdout",
     "output_type": "stream",
     "text": [
      "Enter row size :2\n",
      "Enter column size :3\n",
      "element:2\n",
      "element:3\n",
      "element:2\n",
      "element:4\n",
      "element:3\n",
      "element:4\n",
      "[[2 3]\n",
      " [2 4]\n",
      " [3 4]]\n",
      "Rank of the given Matrix is :  2\n"
     ]
    }
   ],
   "source": [
    "import numpy as np\n",
    "array1=[]\n",
    "r=int(input(\"Enter row size :\"))\n",
    "c=int(input(\"Enter column size :\"))\n",
    "for i in range(r):\n",
    "    for j in range(c):\n",
    "        array1.append(int(input(\"element:\")))\n",
    "array1=n\n",
    "\n",
    "\n",
    "p.array(array1).reshape(c,r)\n",
    "print(array1)\n",
    "rank = np.linalg.matrix_rank(array1)\n",
    "print(\"Rank of the given Matrix is : \",rank)"
   ]
  },
  {
   "cell_type": "code",
   "execution_count": null,
   "id": "3ddf77f7",
   "metadata": {},
   "outputs": [],
   "source": []
  }
 ],
 "metadata": {
  "kernelspec": {
   "display_name": "Python 3 (ipykernel)",
   "language": "python",
   "name": "python3"
  },
  "language_info": {
   "codemirror_mode": {
    "name": "ipython",
    "version": 3
   },
   "file_extension": ".py",
   "mimetype": "text/x-python",
   "name": "python",
   "nbconvert_exporter": "python",
   "pygments_lexer": "ipython3",
   "version": "3.9.7"
  }
 },
 "nbformat": 4,
 "nbformat_minor": 5
}
