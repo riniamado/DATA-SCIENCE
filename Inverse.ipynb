{
 "cells": [
  {
   "cell_type": "code",
   "execution_count": 2,
   "id": "295f928b",
   "metadata": {},
   "outputs": [
    {
     "name": "stdout",
     "output_type": "stream",
     "text": [
      "Enter row size :2\n",
      "Enter column size :2\n",
      "element:3\n",
      "element:45\n",
      "element:333\n",
      "element:4\n",
      "[[  3  45]\n",
      " [333   4]]\n",
      "Enter row size :2\n",
      "Enter column size :2\n",
      "element:3\n",
      "element:4\n",
      "element:5\n",
      "element:3\n",
      "[[3 4]\n",
      " [5 3]]\n",
      "Inverse of the first array:\n",
      "[[-0.00026715  0.00300541]\n",
      " [ 0.02224003 -0.00020036]]\n",
      "Inverse of the second array:\n",
      "[[-0.27272727  0.36363636]\n",
      " [ 0.45454545 -0.27272727]]\n"
     ]
    }
   ],
   "source": [
    "import numpy as np\n",
    "array1=[]\n",
    "r=int(input(\"Enter row size :\"))\n",
    "c=int(input(\"Enter column size :\"))\n",
    "for i in range(r):\n",
    "    for j in range(c):\n",
    "        array1.append(int(input(\"element:\")))\n",
    "array1=np.array(array1).reshape(c,r)\n",
    "print(array1)\n",
    "\n",
    "\n",
    "array2=[]\n",
    "r=int(input(\"Enter row size :\"))\n",
    "c=int(input(\"Enter column size :\"))\n",
    "for i in range(r):\n",
    "    for j in range(c):\n",
    "        array2.append(int(input(\"element:\")))\n",
    "array2=np.array(array2).reshape(c,r)\n",
    "print(array2)\n",
    "\n",
    "result1 =  np.linalg.inv(array1)\n",
    "print(\"Inverse of the first array:\")\n",
    "print(result1)\n",
    "\n",
    "result2 =  np.linalg.inv(array2)\n",
    "print(\"Inverse of the second array:\")\n",
    "print(result2)\n"
   ]
  },
  {
   "cell_type": "code",
   "execution_count": null,
   "id": "c924ccba",
   "metadata": {},
   "outputs": [],
   "source": []
  }
 ],
 "metadata": {
  "kernelspec": {
   "display_name": "Python 3 (ipykernel)",
   "language": "python",
   "name": "python3"
  },
  "language_info": {
   "codemirror_mode": {
    "name": "ipython",
    "version": 3
   },
   "file_extension": ".py",
   "mimetype": "text/x-python",
   "name": "python",
   "nbconvert_exporter": "python",
   "pygments_lexer": "ipython3",
   "version": "3.9.7"
  }
 },
 "nbformat": 4,
 "nbformat_minor": 5
}
