{
 "cells": [
  {
   "cell_type": "code",
   "execution_count": 1,
   "id": "6c7d1337",
   "metadata": {},
   "outputs": [
    {
     "name": "stdout",
     "output_type": "stream",
     "text": [
      "Enter row size :2\n",
      "Enter column size :2\n",
      "element:2\n",
      "element:2\n",
      "element:2\n",
      "element:2\n",
      "[[2 2]\n",
      " [2 2]]\n",
      "Enter row size :2\n",
      "Enter column size :2\n",
      "element:2\n",
      "element:2\n",
      "element:2\n",
      "element:2\n",
      "[[2 2]\n",
      " [2 2]]\n",
      "dot product of two arrays are\n",
      "[[8 8]\n",
      " [8 8]]\n"
     ]
    }
   ],
   "source": [
    "import numpy as nup\n",
    "array1=[]\n",
    "r=int(input(\"Enter row size :\"))\n",
    "c=int(input(\"Enter column size :\"))\n",
    "for i in range(r):\n",
    "    for j in range(c):\n",
    "        array1.append(int(input(\"element:\")))\n",
    "array1=nup.array(array1).reshape(c,r)\n",
    "print(array1)\n",
    "array2=[]\n",
    "r1=int(input(\"Enter row size :\"))\n",
    "c1=int(input(\"Enter column size :\"))\n",
    "for i in range(r1):\n",
    "    for j in range(c1):\n",
    "        array2.append(int(input(\"element:\")))\n",
    "array2=nup.array(array2).reshape(c1,r1)\n",
    "print(array2)\n",
    "print(\"dot product of two arrays are\")\n",
    "print(nup.dot(array1,array2))"
   ]
  },
  {
   "cell_type": "code",
   "execution_count": null,
   "id": "731bca8a",
   "metadata": {},
   "outputs": [],
   "source": []
  }
 ],
 "metadata": {
  "kernelspec": {
   "display_name": "Python 3 (ipykernel)",
   "language": "python",
   "name": "python3"
  },
  "language_info": {
   "codemirror_mode": {
    "name": "ipython",
    "version": 3
   },
   "file_extension": ".py",
   "mimetype": "text/x-python",
   "name": "python",
   "nbconvert_exporter": "python",
   "pygments_lexer": "ipython3",
   "version": "3.9.7"
  }
 },
 "nbformat": 4,
 "nbformat_minor": 5
}
