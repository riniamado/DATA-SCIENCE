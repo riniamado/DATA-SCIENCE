{
 "cells": [
  {
   "cell_type": "code",
   "execution_count": 1,
   "id": "7a409883",
   "metadata": {},
   "outputs": [
    {
     "name": "stdout",
     "output_type": "stream",
     "text": [
      "     Name  Age      Place\n",
      "0     Anu   18     Kollam\n",
      "1   Surya   25     Kannur\n",
      "2  Sandra   22   Palakkad\n",
      "3   Kripa   20  Malapuram\n"
     ]
    }
   ],
   "source": [
    "# Program 4.3\n",
    "\n",
    "import pandas as pd\n",
    "dict1 = {\n",
    "    'Name' : ['Anu', 'Surya', 'Sandra', 'Kripa'],\n",
    "    'Age' : [18, 25, 22, 20],\n",
    "    'Place' : ['Kollam', 'Kannur', 'Palakkad', 'Malapuram'],\n",
    "}\n",
    "df1 = pd.DataFrame(dict1)\n",
    "print(df1)"
   ]
  },
  {
   "cell_type": "code",
   "execution_count": null,
   "id": "ff8883f1",
   "metadata": {},
   "outputs": [],
   "source": []
  }
 ],
 "metadata": {
  "kernelspec": {
   "display_name": "Python 3 (ipykernel)",
   "language": "python",
   "name": "python3"
  },
  "language_info": {
   "codemirror_mode": {
    "name": "ipython",
    "version": 3
   },
   "file_extension": ".py",
   "mimetype": "text/x-python",
   "name": "python",
   "nbconvert_exporter": "python",
   "pygments_lexer": "ipython3",
   "version": "3.9.7"
  }
 },
 "nbformat": 4,
 "nbformat_minor": 5
}
