{
 "cells": [
  {
   "cell_type": "code",
   "execution_count": 1,
   "id": "13b7e67c",
   "metadata": {},
   "outputs": [
    {
     "name": "stdout",
     "output_type": "stream",
     "text": [
      "   Rollno  Name  Mark\n",
      "0       1  Arya    99\n",
      "1       4  Diya    80\n",
      "2       8  Hari    95\n",
      "3       3  Danu    88\n",
      "\n",
      " First two rows :\n",
      "   Rollno  Name  Mark\n",
      "0       1  Arya    99\n",
      "1       4  Diya    80\n"
     ]
    }
   ],
   "source": [
    "# Program  4.8\n",
    "\n",
    "import pandas as pd\n",
    "df1=pd.read_csv(\"Program_4.8.csv\")\n",
    "print(df1) \n",
    "print(\"\\n First two rows :\")\n",
    "df2 = df1.head(2)\n",
    "print(df2)"
   ]
  },
  {
   "cell_type": "code",
   "execution_count": null,
   "id": "7d813237",
   "metadata": {},
   "outputs": [],
   "source": []
  }
 ],
 "metadata": {
  "kernelspec": {
   "display_name": "Python 3 (ipykernel)",
   "language": "python",
   "name": "python3"
  },
  "language_info": {
   "codemirror_mode": {
    "name": "ipython",
    "version": 3
   },
   "file_extension": ".py",
   "mimetype": "text/x-python",
   "name": "python",
   "nbconvert_exporter": "python",
   "pygments_lexer": "ipython3",
   "version": "3.9.7"
  }
 },
 "nbformat": 4,
 "nbformat_minor": 5
}
