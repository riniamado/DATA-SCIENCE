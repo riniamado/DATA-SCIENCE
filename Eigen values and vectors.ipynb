{
 "cells": [
  {
   "cell_type": "code",
   "execution_count": 2,
   "id": "b4c0e66e",
   "metadata": {},
   "outputs": [
    {
     "name": "stdout",
     "output_type": "stream",
     "text": [
      "Enter row size :2\n",
      "Enter column size :2\n",
      "element:3\n",
      "element:4\n",
      "element:53\n",
      "element:5\n",
      "[[ 3  4]\n",
      " [53  5]]\n",
      "Enter row size :2\n",
      "Enter column size :2\n",
      "element:3\n",
      "element:45\n",
      "element:3\n",
      "element:4\n",
      "[[ 3 45]\n",
      " [ 3  4]]\n",
      "Eigenvalues of the first matrix [-10.59451952  18.59451952]\n",
      "Eigenvectors of the first matrix [[-0.28227101 -0.24845725]\n",
      " [ 0.9593347  -0.96864286]]\n",
      "Eigenvalues of the second matrix [-8.12970335 15.12970335]\n",
      "Eigenvectors of the second matrix [[-0.97075003 -0.96553859]\n",
      " [ 0.24009244 -0.26025993]]\n"
     ]
    }
   ],
   "source": [
    "import numpy as np\n",
    "array1=[]\n",
    "r=int(input(\"Enter row size :\"))\n",
    "c=int(input(\"Enter column size :\"))\n",
    "for i in range(r):\n",
    "    for j in range(c):\n",
    "        array1.append(int(input(\"element:\")))\n",
    "array1=np.array(array1).reshape(c,r)\n",
    "print(array1)\n",
    "\n",
    "\n",
    "array2=[]\n",
    "r=int(input(\"Enter row size :\"))\n",
    "c=int(input(\"Enter column size :\"))\n",
    "for i in range(r):\n",
    "    for j in range(c):\n",
    "        array2.append(int(input(\"element:\")))\n",
    "array2=np.array(array2).reshape(c,r)\n",
    "print(array2)\n",
    "\n",
    "w, v = np.linalg.eig(array1) \n",
    "print( \"Eigenvalues of the first matrix\",w)\n",
    "print( \"Eigenvectors of the first matrix\",v)\n",
    "\n",
    "w1, v1 = np.linalg.eig(array2) \n",
    "print( \"Eigenvalues of the second matrix\",w1)\n",
    "print( \"Eigenvectors of the second matrix\",v1)\n",
    "\n"
   ]
  },
  {
   "cell_type": "code",
   "execution_count": null,
   "id": "db892a86",
   "metadata": {},
   "outputs": [],
   "source": []
  }
 ],
 "metadata": {
  "kernelspec": {
   "display_name": "Python 3 (ipykernel)",
   "language": "python",
   "name": "python3"
  },
  "language_info": {
   "codemirror_mode": {
    "name": "ipython",
    "version": 3
   },
   "file_extension": ".py",
   "mimetype": "text/x-python",
   "name": "python",
   "nbconvert_exporter": "python",
   "pygments_lexer": "ipython3",
   "version": "3.9.7"
  }
 },
 "nbformat": 4,
 "nbformat_minor": 5
}
