#KNN implentation

from sklearn.datasets import load_iris
iris=load_iris()
data1=iris.data
target1=iris.target

from sklearn.model_selection import train_test_split
data1_train,data1_test,target1_train,target1_test=train_test_split(data1,target1,test_size=0.3,random_state=1)

from sklearn.neighbors import KNeighborsClassifier
from sklearn import metrics
c_knn=KNeighborsClassifier(n_neighbors=3)
c_knn.fit(data1_train,target1_train)
target1_pred=c_knn.predict(data1_test)
print("TARGET PREDICTION = ",target1_pred)

print("ACCURACY = ",metrics.accuracy_score(target1_test,target1_pred))

test1=[[3,5,4,4]]
pred=c_knn.predict(test1)
pred_value=[iris.target_names[p] for p in pred]
print(pred_value)
