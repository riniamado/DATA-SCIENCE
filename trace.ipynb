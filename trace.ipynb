{
 "cells": [
  {
   "cell_type": "code",
   "execution_count": 1,
   "id": "66a79ff2",
   "metadata": {},
   "outputs": [
    {
     "name": "stdout",
     "output_type": "stream",
     "text": [
      "Enter row size :2\n",
      "Enter column size :2\n",
      "element:4\n",
      "element:1\n",
      "element:4\n",
      "element:5\n",
      "[[4 1]\n",
      " [4 5]]\n",
      "9\n"
     ]
    }
   ],
   "source": [
    "import numpy as nup\n",
    "array1=[]\n",
    "r=int(input(\"Enter row size :\"))\n",
    "c=int(input(\"Enter column size :\"))\n",
    "for i in range(r):\n",
    "    for j in range(c):\n",
    "        array1.append(int(input(\"element:\")))\n",
    "array1=nup.array(array1).reshape(c,r)\n",
    "print(array1)\n",
    "tra = array1.trace()\n",
    "    \n",
    "print(tra)"
   ]
  },
  {
   "cell_type": "markdown",
   "id": "d71a647c",
   "metadata": {},
   "source": [
    "###### "
   ]
  }
 ],
 "metadata": {
  "kernelspec": {
   "display_name": "Python 3 (ipykernel)",
   "language": "python",
   "name": "python3"
  },
  "language_info": {
   "codemirror_mode": {
    "name": "ipython",
    "version": 3
   },
   "file_extension": ".py",
   "mimetype": "text/x-python",
   "name": "python",
   "nbconvert_exporter": "python",
   "pygments_lexer": "ipython3",
   "version": "3.9.7"
  }
 },
 "nbformat": 4,
 "nbformat_minor": 5
}
