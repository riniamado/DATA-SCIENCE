# import pandas library
import pandas as pd
  
# dictionary with list object in values
details = {
    'Name' : ['Ankita', 'Aisha', 'Srinda', 'Rizwan'],
    'Age' : [28, 21, 22, 21],
    'University' : ['kerela uty', 'JNU uty', 'mg uty', 'christ uty'],
}
  
# creating a Dataframe object from dictionary 
# with custom indexing
df = pd.DataFrame(details, index = ['a', 'b', 'c', 'd'])
  
df






----------------------------output----------------------------------
Name 	Age 	University
a 	Ankita 	28 	kerela uty
b 	Aisha 	21 	JNU uty
c 	Srinda 	22 	mg uty
d 	Rizwan 	21 	christ uty
