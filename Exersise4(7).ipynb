{
 "cells": [
  {
   "cell_type": "code",
   "execution_count": 1,
   "id": "888f9cf9",
   "metadata": {},
   "outputs": [
    {
     "name": "stdout",
     "output_type": "stream",
     "text": [
      "   Rollno  Name  Mark\n",
      "0       1  Arya    99\n",
      "1       4  Diya    80\n",
      "2       8  Hari    95\n",
      "\n",
      "   index  Rollno  Name  Mark\n",
      "0      0       1  Arya    99\n",
      "1      1       4  Diya    80\n",
      "2      2       8  Hari    95\n"
     ]
    }
   ],
   "source": [
    "# Program  4.7\n",
    "\n",
    "import pandas as pd\n",
    "df1=pd.read_csv(\"Program_4.7.csv\")\n",
    "print(df1) \n",
    "print()\n",
    "df2 = df1.reset_index()\n",
    "print(df2)"
   ]
  },
  {
   "cell_type": "code",
   "execution_count": null,
   "id": "77da44e6",
   "metadata": {},
   "outputs": [],
   "source": []
  }
 ],
 "metadata": {
  "kernelspec": {
   "display_name": "Python 3 (ipykernel)",
   "language": "python",
   "name": "python3"
  },
  "language_info": {
   "codemirror_mode": {
    "name": "ipython",
    "version": 3
   },
   "file_extension": ".py",
   "mimetype": "text/x-python",
   "name": "python",
   "nbconvert_exporter": "python",
   "pygments_lexer": "ipython3",
   "version": "3.9.7"
  }
 },
 "nbformat": 4,
 "nbformat_minor": 5
}
