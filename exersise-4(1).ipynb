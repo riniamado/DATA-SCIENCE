# import pandas lib. as pd
import pandas as pd
  
# create Pandas Series with define indexes
x = pd.Series([1, 2, 3, 4, 5,6,7], index =['monday', 'tuesday', 'wednesday', 'thursday', 'friday','saturday','sunday'])
  
# print the Series
print(x)


------------------------output----------------------------
monday       1
tuesday      2
wednesday    3
thursday     4
friday       5
saturday     6
sunday       7
dtype: int64
