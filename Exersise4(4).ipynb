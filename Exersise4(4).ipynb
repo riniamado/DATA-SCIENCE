{
 "cells": [
  {
   "cell_type": "code",
   "execution_count": 1,
   "id": "61352811",
   "metadata": {},
   "outputs": [
    {
     "name": "stdout",
     "output_type": "stream",
     "text": [
      "   Emp ID     Name      Place\n",
      "0     100    Manoj     Kannur\n",
      "1     200  Sudhina  Thalasery\n"
     ]
    }
   ],
   "source": [
    "# Program 4.4\n",
    "\n",
    "import pandas as pd\n",
    "list1 = [[100, 'Manoj', 'Kannur'],\n",
    "         [200, 'Sudhina', 'Thalasery']]\n",
    "df1 = pd.DataFrame(list1, columns = ['Emp ID', 'Name', 'Place'])\n",
    "print(df1)"
   ]
  },
  {
   "cell_type": "code",
   "execution_count": null,
   "id": "fdeb5747",
   "metadata": {},
   "outputs": [],
   "source": []
  }
 ],
 "metadata": {
  "kernelspec": {
   "display_name": "Python 3 (ipykernel)",
   "language": "python",
   "name": "python3"
  },
  "language_info": {
   "codemirror_mode": {
    "name": "ipython",
    "version": 3
   },
   "file_extension": ".py",
   "mimetype": "text/x-python",
   "name": "python",
   "nbconvert_exporter": "python",
   "pygments_lexer": "ipython3",
   "version": "3.9.7"
  }
 },
 "nbformat": 4,
 "nbformat_minor": 5
}
